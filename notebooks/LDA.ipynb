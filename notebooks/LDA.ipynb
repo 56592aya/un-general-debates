{
 "cells": [
  {
   "cell_type": "markdown",
   "metadata": {
    "_uuid": "388ec70f7433b393e043893927d77cabab5508c8"
   },
   "source": [
    "# LDA"
   ]
  },
  {
   "cell_type": "code",
   "execution_count": null,
   "metadata": {
    "_cell_guid": "b1076dfc-b9ad-4769-8c92-a6c4dae69d19",
    "_uuid": "8f2839f25d086af736a60e9eeb907d3b93b6e0e5"
   },
   "outputs": [],
   "source": [
    "import logging\n",
    "import pyLDAvis\n",
    "import pyLDAvis.gensim as gensimvis\n",
    "import warnings\n",
    "from gensim.corpora.dictionary import Dictionary\n",
    "from gensim.models import LdaMulticore\n",
    "logging.basicConfig(format='%(asctime)s : %(levelname)s : %(message)s', level=logging.WARN)\n",
    "warnings.filterwarnings(action='once')\n",
    "\n",
    "from src.utils.tokenization import WordTokenizer\n",
    "from src.utils.corpus import load_corpus"
   ]
  },
  {
   "cell_type": "code",
   "execution_count": null,
   "metadata": {},
   "outputs": [],
   "source": [
    "debates_paragraphs = load_corpus()\n",
    "debates_paragraphs.head()"
   ]
  },
  {
   "cell_type": "code",
   "execution_count": null,
   "metadata": {
    "_uuid": "eea3a80934ed3601395bbe2b24bdb055e73a3f06"
   },
   "outputs": [],
   "source": [
    "word_tokenizer = WordTokenizer()\n",
    "texts = debates_paragraphs.text.apply(lambda x: word_tokenizer.tokenize(x))"
   ]
  },
  {
   "cell_type": "code",
   "execution_count": null,
   "metadata": {
    "_uuid": "69e9377ae2612d25ac23265bbfbdfc8ed0200b22",
    "scrolled": true
   },
   "outputs": [],
   "source": [
    "dictionary = Dictionary(texts)\n",
    "dictionary.filter_extremes(no_below=100)\n",
    "corpus = texts.apply(lambda x: dictionary.doc2bow(x))"
   ]
  },
  {
   "cell_type": "code",
   "execution_count": null,
   "metadata": {},
   "outputs": [],
   "source": [
    "print(dictionary)"
   ]
  },
  {
   "cell_type": "code",
   "execution_count": null,
   "metadata": {
    "_uuid": "eddfd474aa3b2fbf1438442d396a1422a9317f19"
   },
   "outputs": [],
   "source": [
    "lda = LdaMulticore(corpus=corpus, num_topics=15, id2word=dictionary)"
   ]
  },
  {
   "cell_type": "code",
   "execution_count": null,
   "metadata": {
    "_uuid": "84a48dcec3efb053068db509ba4ef7a4dc9531e7"
   },
   "outputs": [],
   "source": [
    "vis_data = gensimvis.prepare(lda, corpus, dictionary)\n",
    "pyLDAvis.display(vis_data)"
   ]
  }
 ],
 "metadata": {
  "kernelspec": {
   "display_name": "un-general-debates",
   "language": "python",
   "name": "un-general-debates"
  },
  "language_info": {
   "codemirror_mode": {
    "name": "ipython",
    "version": 3
   },
   "file_extension": ".py",
   "mimetype": "text/x-python",
   "name": "python",
   "nbconvert_exporter": "python",
   "pygments_lexer": "ipython3",
   "version": "3.6.5"
  }
 },
 "nbformat": 4,
 "nbformat_minor": 2
}

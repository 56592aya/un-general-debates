{
 "cells": [
  {
   "cell_type": "markdown",
   "metadata": {},
   "source": [
    "# Tutorial\n",
    "\n",
    "This notebook is a simple guide on how to use the `Corpus` object to easily load and interact with the data. `make data` produces some preprocessed data files that are read here."
   ]
  },
  {
   "cell_type": "code",
   "execution_count": 1,
   "metadata": {},
   "outputs": [],
   "source": [
    "from src.utils.corpus import Corpus"
   ]
  },
  {
   "cell_type": "markdown",
   "metadata": {},
   "source": [
    "The `debates` instance variable is a `pd.DataFrame` where each row corresponds to a paragraph."
   ]
  },
  {
   "cell_type": "code",
   "execution_count": 2,
   "metadata": {},
   "outputs": [
    {
     "data": {
      "text/html": [
       "<div>\n",
       "<style scoped>\n",
       "    .dataframe tbody tr th:only-of-type {\n",
       "        vertical-align: middle;\n",
       "    }\n",
       "\n",
       "    .dataframe tbody tr th {\n",
       "        vertical-align: top;\n",
       "    }\n",
       "\n",
       "    .dataframe thead th {\n",
       "        text-align: right;\n",
       "    }\n",
       "</style>\n",
       "<table border=\"1\" class=\"dataframe\">\n",
       "  <thead>\n",
       "    <tr style=\"text-align: right;\">\n",
       "      <th></th>\n",
       "      <th>document_id</th>\n",
       "      <th>paragraph_index</th>\n",
       "      <th>session</th>\n",
       "      <th>year</th>\n",
       "      <th>country</th>\n",
       "      <th>country_name</th>\n",
       "      <th>bag_of_words</th>\n",
       "      <th>paragraph_id</th>\n",
       "      <th>text</th>\n",
       "    </tr>\n",
       "  </thead>\n",
       "  <tbody>\n",
       "    <tr>\n",
       "      <th>0</th>\n",
       "      <td>0</td>\n",
       "      <td>0</td>\n",
       "      <td>25</td>\n",
       "      <td>1970</td>\n",
       "      <td>ALB</td>\n",
       "      <td>Albania</td>\n",
       "      <td>[convey, president, congratulation, albanian, ...</td>\n",
       "      <td>0_0</td>\n",
       "      <td>33: May I first convey to our President the co...</td>\n",
       "    </tr>\n",
       "    <tr>\n",
       "      <th>1</th>\n",
       "      <td>0</td>\n",
       "      <td>1</td>\n",
       "      <td>25</td>\n",
       "      <td>1970</td>\n",
       "      <td>ALB</td>\n",
       "      <td>Albania</td>\n",
       "      <td>[take, work, agenda, twenty-, fifth, session, ...</td>\n",
       "      <td>0_1</td>\n",
       "      <td>34.\\tIn taking up the work on the agenda of th...</td>\n",
       "    </tr>\n",
       "    <tr>\n",
       "      <th>2</th>\n",
       "      <td>0</td>\n",
       "      <td>2</td>\n",
       "      <td>25</td>\n",
       "      <td>1970</td>\n",
       "      <td>ALB</td>\n",
       "      <td>Albania</td>\n",
       "      <td>[utilization, united, nations, serve, policy, ...</td>\n",
       "      <td>0_2</td>\n",
       "      <td>35.\\tThe utilization of the United Nations to ...</td>\n",
       "    </tr>\n",
       "    <tr>\n",
       "      <th>3</th>\n",
       "      <td>0</td>\n",
       "      <td>3</td>\n",
       "      <td>25</td>\n",
       "      <td>1970</td>\n",
       "      <td>ALB</td>\n",
       "      <td>Albania</td>\n",
       "      <td>[progressive, mankind, recall, admiration, her...</td>\n",
       "      <td>0_3</td>\n",
       "      <td>36.\\tThe whole of progressive mankind recalls ...</td>\n",
       "    </tr>\n",
       "    <tr>\n",
       "      <th>4</th>\n",
       "      <td>0</td>\n",
       "      <td>4</td>\n",
       "      <td>25</td>\n",
       "      <td>1970</td>\n",
       "      <td>ALB</td>\n",
       "      <td>Albania</td>\n",
       "      <td>[know, consequence, united, nations, particula...</td>\n",
       "      <td>0_4</td>\n",
       "      <td>37.\\tAll this has had well known consequences ...</td>\n",
       "    </tr>\n",
       "  </tbody>\n",
       "</table>\n",
       "</div>"
      ],
      "text/plain": [
       "   document_id  paragraph_index  session  year country country_name  \\\n",
       "0            0                0       25  1970     ALB      Albania   \n",
       "1            0                1       25  1970     ALB      Albania   \n",
       "2            0                2       25  1970     ALB      Albania   \n",
       "3            0                3       25  1970     ALB      Albania   \n",
       "4            0                4       25  1970     ALB      Albania   \n",
       "\n",
       "                                        bag_of_words paragraph_id  \\\n",
       "0  [convey, president, congratulation, albanian, ...          0_0   \n",
       "1  [take, work, agenda, twenty-, fifth, session, ...          0_1   \n",
       "2  [utilization, united, nations, serve, policy, ...          0_2   \n",
       "3  [progressive, mankind, recall, admiration, her...          0_3   \n",
       "4  [know, consequence, united, nations, particula...          0_4   \n",
       "\n",
       "                                                text  \n",
       "0  33: May I first convey to our President the co...  \n",
       "1  34.\\tIn taking up the work on the agenda of th...  \n",
       "2  35.\\tThe utilization of the United Nations to ...  \n",
       "3  36.\\tThe whole of progressive mankind recalls ...  \n",
       "4  37.\\tAll this has had well known consequences ...  "
      ]
     },
     "execution_count": 2,
     "metadata": {},
     "output_type": "execute_result"
    }
   ],
   "source": [
    "corp = Corpus()\n",
    "corp.debates.head()"
   ]
  },
  {
   "cell_type": "markdown",
   "metadata": {},
   "source": [
    "The `speeches` and `paragraphs` instance variables contain lists of respective `Speech` and `Paragraph` objects. The `paragraphs` list is ordered in the same way as the `debates` data frame. Some common operations on these objects are demonstrated below."
   ]
  },
  {
   "cell_type": "code",
   "execution_count": 3,
   "metadata": {},
   "outputs": [
    {
     "data": {
      "text/plain": [
       "[<src.utils.corpus.Speech at 0x7393204e0>,\n",
       " <src.utils.corpus.Speech at 0x72af5def0>,\n",
       " <src.utils.corpus.Speech at 0x7261b1630>,\n",
       " <src.utils.corpus.Speech at 0x725b846a0>,\n",
       " <src.utils.corpus.Speech at 0x7277b8a20>]"
      ]
     },
     "execution_count": 3,
     "metadata": {},
     "output_type": "execute_result"
    }
   ],
   "source": [
    "corp.speeches[:5]"
   ]
  },
  {
   "cell_type": "code",
   "execution_count": 4,
   "metadata": {},
   "outputs": [
    {
     "data": {
      "text/plain": [
       "[<src.utils.corpus.Paragraph at 0x738143240>,\n",
       " <src.utils.corpus.Paragraph at 0x737206b00>,\n",
       " <src.utils.corpus.Paragraph at 0x734ecf7f0>,\n",
       " <src.utils.corpus.Paragraph at 0x732b97f60>,\n",
       " <src.utils.corpus.Paragraph at 0x70d968908>]"
      ]
     },
     "execution_count": 4,
     "metadata": {},
     "output_type": "execute_result"
    }
   ],
   "source": [
    "corp.paragraphs[:5]"
   ]
  },
  {
   "cell_type": "code",
   "execution_count": 5,
   "metadata": {},
   "outputs": [],
   "source": [
    "# check that order is the same as the debates df\n",
    "for par_id_from_df, par_obj in zip(corp.debates.paragraph_id, corp.paragraphs):\n",
    "    assert par_id_from_df == par_obj.id_"
   ]
  },
  {
   "cell_type": "markdown",
   "metadata": {},
   "source": [
    "To access serialized Spacy markup, use the `spacy_doc` method. Spacy markup is computed at the full speech level, so `spacy_doc` on a `Paragraph` object returns a span into the parent speech. This is lazy loaded and cached on the speech level. It takes several minutes to load in the markup for all speeches."
   ]
  },
  {
   "cell_type": "code",
   "execution_count": 6,
   "metadata": {},
   "outputs": [
    {
     "data": {
      "text/plain": [
       "spacy.tokens.doc.Doc"
      ]
     },
     "execution_count": 6,
     "metadata": {},
     "output_type": "execute_result"
    }
   ],
   "source": [
    "doc = corp.speeches[0].spacy_doc()\n",
    "type(doc)"
   ]
  },
  {
   "cell_type": "code",
   "execution_count": 7,
   "metadata": {},
   "outputs": [
    {
     "data": {
      "text/plain": [
       "spacy.tokens.span.Span"
      ]
     },
     "execution_count": 7,
     "metadata": {},
     "output_type": "execute_result"
    }
   ],
   "source": [
    "doc_paragraph = corp.paragraphs[0].spacy_doc()\n",
    "type(doc_paragraph)"
   ]
  },
  {
   "cell_type": "markdown",
   "metadata": {},
   "source": [
    "You can access individual speeches and paragraphs by id directly."
   ]
  },
  {
   "cell_type": "code",
   "execution_count": 8,
   "metadata": {},
   "outputs": [
    {
     "data": {
      "text/plain": [
       "<src.utils.corpus.Speech at 0x7374b0320>"
      ]
     },
     "execution_count": 8,
     "metadata": {},
     "output_type": "execute_result"
    }
   ],
   "source": [
    "corp.speech(45)"
   ]
  },
  {
   "cell_type": "code",
   "execution_count": 9,
   "metadata": {},
   "outputs": [
    {
     "data": {
      "text/plain": [
       "<src.utils.corpus.Paragraph at 0x7426a7710>"
      ]
     },
     "execution_count": 9,
     "metadata": {},
     "output_type": "execute_result"
    }
   ],
   "source": [
    "corp.paragraph('467_20')"
   ]
  }
 ],
 "metadata": {
  "kernelspec": {
   "display_name": "un-general-debates",
   "language": "python",
   "name": "un-general-debates"
  },
  "language_info": {
   "codemirror_mode": {
    "name": "ipython",
    "version": 3
   },
   "file_extension": ".py",
   "mimetype": "text/x-python",
   "name": "python",
   "nbconvert_exporter": "python",
   "pygments_lexer": "ipython3",
   "version": "3.6.7"
  }
 },
 "nbformat": 4,
 "nbformat_minor": 2
}

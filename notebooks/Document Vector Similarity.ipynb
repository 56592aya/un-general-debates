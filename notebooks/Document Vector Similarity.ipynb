{
 "cells": [
  {
   "cell_type": "markdown",
   "metadata": {},
   "source": [
    "# Latent Vector Exploration\n",
    "\n",
    "The VDSH model learns latent vector representations of documents. These are then used to hash documents, but the vectors by themselves are still very useful for similarity search. This is also a good sanity check that the network is learning.\n",
    "\n",
    "In this notebook, I pass each document through the trained encoder to get the latent vector representations, and then I use [FAISS](https://github.com/facebookresearch/faiss) for similarity search. FAISS lets us query for nearest neighbors among the nearly 300k documents near instantaneously."
   ]
  },
  {
   "cell_type": "code",
   "execution_count": 1,
   "metadata": {},
   "outputs": [
    {
     "name": "stderr",
     "output_type": "stream",
     "text": [
      "Using TensorFlow backend.\n"
     ]
    }
   ],
   "source": [
    "import faiss\n",
    "import numpy as np\n",
    "from gensim.corpora import Dictionary\n",
    "from src.utils.corpus import Corpus\n",
    "from src.utils.tfidf import generate_tfidf\n",
    "from src.models.vdsh import VDSH"
   ]
  },
  {
   "cell_type": "code",
   "execution_count": 2,
   "metadata": {},
   "outputs": [],
   "source": [
    "corpus = Corpus()\n",
    "dictionary = Dictionary(corpus.debates.bag_of_words)\n",
    "dictionary.filter_extremes(no_below=100)\n",
    "dictionary.compactify()\n",
    "X = generate_tfidf(corpus.debates, dictionary)\n",
    "vdsh = VDSH()\n",
    "vdsh.build_model(X.shape[1])\n",
    "vdsh.load_weights('vdsh.hdf5')\n",
    "latent_vectors = vdsh.encoder_predict(X)"
   ]
  },
  {
   "cell_type": "code",
   "execution_count": 3,
   "metadata": {},
   "outputs": [],
   "source": [
    "index = faiss.IndexFlatL2(latent_vectors.shape[1])\n",
    "index.add(latent_vectors)"
   ]
  },
  {
   "cell_type": "markdown",
   "metadata": {},
   "source": [
    "## Querying"
   ]
  },
  {
   "cell_type": "code",
   "execution_count": 4,
   "metadata": {},
   "outputs": [],
   "source": [
    "target = 286995\n",
    "k = 10\n",
    "D, I = index.search(latent_vectors[target].reshape((1,-1)), k)"
   ]
  },
  {
   "cell_type": "code",
   "execution_count": 7,
   "metadata": {},
   "outputs": [],
   "source": [
    "def print_paragraph(i):\n",
    "    doc = corpus.debates.iloc[i]\n",
    "    print(doc.country_name, doc.year)\n",
    "    print(doc.text)\n",
    "    print('\\n\\n')"
   ]
  },
  {
   "cell_type": "code",
   "execution_count": 8,
   "metadata": {
    "scrolled": false
   },
   "outputs": [
    {
     "name": "stdout",
     "output_type": "stream",
     "text": [
      "United States Of America 2015\n",
      "I have said before and I will repeat: there is no room to accommodate an apocalyptic cult like the Islamic State in Iraq and the Levant (ISIL), and the United States makes no apologies for using our military, as part of a broad coalition, to go after them. We do so with a determination to ensure that there will never be a safe haven for terrorists who carry out these crimes. We have demonstrated over more than a decade of relentless pursuit of Al-Qaida that we will not be outlasted by extremists.\n",
      "\n",
      "\n",
      "\n",
      "\n",
      "Nearest Neighbors:\n",
      "\n",
      "Czech Republic 2015\n",
      "The second illusion is that we can reduce terrorist organizations to the so-called Islamic State only. But there are many other terrorist organizations — for instance, Al-Qaida, the Taliban, Al-Nusra, Boko Haram and others. Two outstanding politicians from the Arab world told me that the cover organization is the Muslim Brotherhood. If so, there is a terrorism network, and that network cannot be reduced simply to the Islamic State.\n",
      "\n",
      "\n",
      "\n",
      "\n",
      "Norway 2015\n",
      "The conflict in Syria has also allowed extremist terror groups like the Islamic State in Iraq and the Levant (ISIL) to gain a foothold. Now, both the Government and non-State groups such as ISIL and the Al-Nusra Front are committing monstrous atrocities. The spread of these extremist groups needs to be stopped.\n",
      "\n",
      "\n",
      "\n",
      "\n",
      "Russia 1996\n",
      "Russia advocates resolute opposition to extremist and\n",
      "terrorist forces. They are especially dangerous when they\n",
      "enjoy State support, and no effort should be spared to\n",
      "prevent any State from rendering such support. This\n",
      "cannot be justified. I believe it is time a universal\n",
      "convention, covering all States without exception, were\n",
      "elaborated within the United Nations, denying political\n",
      "asylum anywhere to persons engaged in terrorist\n",
      "activities. However, no sanctions should be used as a\n",
      "means to punish peoples or as an instrument to overthrow\n",
      "Governments. It is far more effective to offer prospects\n",
      "for a better future to those who renounce extremism and\n",
      "accept the norms of conduct by the world community.\n",
      "\n",
      "\n",
      "\n",
      "\n",
      "Iraq 2004\n",
      "Like all terrorists everywhere in the world, those who\n",
      "are responsible for terrorism in Iraq hate democracy,\n",
      "freedom and humanity. They are abetted in their\n",
      "criminal endeavours by a number of foreigners who\n",
      "have infiltrated Iraq from neighbouring countries.\n",
      "\n",
      "\n",
      "\n",
      "\n",
      "Costa Rica 1976\n",
      "46.\tIsrael may feel proud of having set a precedent in the fight against international terrorism a precedent applicable against aerial hijackers in any part of the world, irrespective of the victims or the perpetrators.\n",
      "\n",
      "\n",
      "\n",
      "\n",
      "Argentina 1976\n",
      "159.\tAs a contribution to this Assembly, I wish to refer to our unhappy experience. Impelled by its nihilistic motives and in pursuit of its disruptive objectives, terrorism began to creep into our country through the cracks that the free operation of unwary democracy leaves open. The Argentine Government has therefore had to contend with intense and strongly entrenched terrorist activity. The cruelty with which the terrorists act and the suffering they have inflicted and are inflicting on the country are common knowledge. Personal security and the most elementary human rights are constantly threatened by indiscriminate terrorist action, It is obvious that the ultimate aim of the terrorist groups is to destroy the State and undermine the political institutions. My Government is resolutely and firmly determined to take whatever action the situation may dictate to maintain peace and security.\n",
      "\n",
      "\n",
      "\n",
      "\n",
      "Uganda 2001\n",
      "He should not be attacked. It is against the laws of war.\n",
      "\n",
      "\n",
      "\n",
      "\n",
      "Russia 2015\n",
      "And, naturally, Muslim countries should play a key role in that coalition. Not only is the Islamic State a direct threat to them, it also desecrates one of the world’s greatest religions with its bloody crimes. The militants’ ideologists make a mockery of Islam and pervert its true humanistic values. In that regard, I would also like to address Muslim spiritual leaders. Their authority and tutelage are vital at this moment. It is essential to prevent those whom militants try to recruit from making hasty decisions. And those who have been deceived and who by force of circumstance have ended up in the terrorists’ ranks must be helped to find a path back to normal life, lay down their arms and cease their fratricide.\n",
      "\n",
      "\n",
      "\n",
      "\n",
      "Andorra 2012\n",
      "However, establishing a fair balance does not mean\n",
      "conducting a balancing act. Indeed, that balance must\n",
      "be based on strong principles. There can be no excuse\n",
      "for violence, intolerance or impunity. President Obama\n",
      "was right when he mentioned in this Hall that the\n",
      "recent attacks on diplomatic missions were not solely\n",
      "an attack on the United States, but also an assault on the\n",
      "foundations of the United Nations itself. There can be\n",
      "no excuse or impunity for such acts.\n",
      "\n",
      "\n",
      "\n",
      "\n",
      "\n"
     ]
    }
   ],
   "source": [
    "print_paragraph(target)\n",
    "print('Nearest Neighbors:\\n')\n",
    "for i in I[0]:\n",
    "    if i == target:\n",
    "        continue\n",
    "    print_paragraph(i)"
   ]
  }
 ],
 "metadata": {
  "kernelspec": {
   "display_name": "un-general-debates",
   "language": "python",
   "name": "un-general-debates"
  },
  "language_info": {
   "codemirror_mode": {
    "name": "ipython",
    "version": 3
   },
   "file_extension": ".py",
   "mimetype": "text/x-python",
   "name": "python",
   "nbconvert_exporter": "python",
   "pygments_lexer": "ipython3",
   "version": "3.6.7"
  }
 },
 "nbformat": 4,
 "nbformat_minor": 2
}

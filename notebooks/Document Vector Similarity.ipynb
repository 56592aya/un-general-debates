{
 "cells": [
  {
   "cell_type": "markdown",
   "metadata": {},
   "source": [
    "# Latent Vector Exploration\n",
    "\n",
    "The VDSH model learns latent vector representations of documents. These are then used to hash documents, but the vectors by themselves are still very useful for similarity search. This is also a good sanity check that the network is learning.\n",
    "\n",
    "In this notebook, I pass each document through the trained encoder to get the latent vector representations, and then I use [FAISS](https://github.com/facebookresearch/faiss) for similarity search. FAISS lets us query for nearest neighbors among the nearly 300k documents near instantaneously."
   ]
  },
  {
   "cell_type": "code",
   "execution_count": 1,
   "metadata": {},
   "outputs": [
    {
     "name": "stderr",
     "output_type": "stream",
     "text": [
      "Using TensorFlow backend.\n"
     ]
    }
   ],
   "source": [
    "import faiss\n",
    "import numpy as np\n",
    "from gensim.corpora import Dictionary\n",
    "from src.utils.corpus import load_corpus, generate_tfidf\n",
    "from src.models.vdsh import VDSH"
   ]
  },
  {
   "cell_type": "code",
   "execution_count": 2,
   "metadata": {},
   "outputs": [],
   "source": [
    "corpus = load_corpus()\n",
    "dictionary = Dictionary(corpus.bag_of_words)\n",
    "dictionary.filter_extremes(no_below=100)\n",
    "dictionary.compactify()\n",
    "X = generate_tfidf(corpus, dictionary)\n",
    "vdsh = VDSH()\n",
    "vdsh.build_model(X.shape[1])\n",
    "vdsh.load_weights('vdsh.hdf5')\n",
    "latent_vectors = vdsh.encoder_predict(X)"
   ]
  },
  {
   "cell_type": "code",
   "execution_count": 3,
   "metadata": {},
   "outputs": [],
   "source": [
    "index = faiss.IndexFlatL2(latent_vectors.shape[1])\n",
    "index.add(latent_vectors)"
   ]
  },
  {
   "cell_type": "markdown",
   "metadata": {},
   "source": [
    "## Querying"
   ]
  },
  {
   "cell_type": "code",
   "execution_count": 4,
   "metadata": {},
   "outputs": [],
   "source": [
    "target = 283322\n",
    "k = 10\n",
    "D, I = index.search(latent_vectors[target].reshape((1,-1)), k)"
   ]
  },
  {
   "cell_type": "code",
   "execution_count": 5,
   "metadata": {},
   "outputs": [],
   "source": [
    "def print_paragraph(i):\n",
    "    doc = corpus.iloc[i]\n",
    "    print(doc.country_name, doc.year)\n",
    "    print(doc.text)\n",
    "    print('\\n\\n')"
   ]
  },
  {
   "cell_type": "code",
   "execution_count": 6,
   "metadata": {
    "scrolled": false
   },
   "outputs": [
    {
     "name": "stdout",
     "output_type": "stream",
     "text": [
      "United States Of America 2015\n",
      "We know that ISIL — which emerged out of the chaos of Iraq and Syria — depends on perpetual war to survive, but we also know that they gain adherents because of a poisonous ideology. Part of our job, together, is to work to reject such extremism that infects too many of our young people. Part of that effort must be a continued rejection by Muslims of those who distort Islam to preach intolerance and promote violence. It must also involve a rejection by non-Muslims of the ignorance that equates Islam with terrorism.\n",
      "\n",
      "\n",
      "\n",
      "Nearest Neighbors:\n",
      "\n",
      "Bolivia 2014\n",
      "It is also a discourse of extremist fanaticism.\n",
      "\n",
      "\n",
      "\n",
      "Jordan 2014\n",
      "Another critical global focus must be a decisive \n",
      "affirmation of mutual respect within and among \n",
      "religions and peoples. The teachings of true Islam \n",
      "are clear: sectarian conflict and strife are utterly \n",
      "condemned. Islam prohibits violence against Christians \n",
      "and the other communities that make up each country.\n",
      "\n",
      "\n",
      "\n",
      "Pakistan 1993\n",
      "Instead of civility and the practice of tolerance being\n",
      "promoted, chauvinism and the evils of bigotry and hatred are\n",
      "encouraged in some countries. The consequence has been\n",
      "pogroms against minorities and destruction and desecration\n",
      "of their places of worship.\n",
      "\n",
      "\n",
      "\n",
      "Malaysia 2007\n",
      "For their part, Muslims have a responsibility to \n",
      "present to the world the true face of Islam. It must be \n",
      "made clear that Islam is a religion that abhors conflicts, \n",
      "more so between Muslims. When disputes do arise, \n",
      "Islam enjoins forgiveness and reconciliation through \n",
      "mushawarah, which can be translated as engaging in \n",
      "dialogue and peaceful negotiation. Furthermore, the \n",
      "teachings of Islam put a very high premium on peace \n",
      "and development. Islam is definitely not an \n",
      "encumbrance to progress and prosperity. In my country, \n",
      "Malaysia, although Muslims constitute the large \n",
      "majority of the population, the Government has used \n",
      "the progressive teachings of Islam as the basis for good \n",
      "governance to deliver benefits to all sectors of our \n",
      "multi-ethnic and multireligious society without \n",
      "discrimination. We call this approach Islam Hadhari.\n",
      "\n",
      "\n",
      "\n",
      "Iran 2001\n",
      "We shall rise to the challenge of promoting peace,\n",
      "security and development among all nations on the\n",
      "basis of justice, and we believe that in today’s\n",
      "interconnected world, we cannot live in islands of\n",
      "prosperity and progress while the rest of the world\n",
      "suffers from increasing poverty, illiteracy, disease and\n",
      "insecurity. Acquiescing to any act of terrorism,\n",
      "anywhere in the world, is inconsistent with any\n",
      "religious or ethical principle. Likewise, resorting to\n",
      "violence and revenge to counter such acts could hardly\n",
      "be justified because of ethical and humane\n",
      "considerations. Lacing the sacred realm of religion\n",
      "with violence and terror is a grave disservice to all\n",
      "religions and their followers. The divine religions call\n",
      "for peace, tolerance and compassion. They\n",
      "unequivocally repudiate — in essence and appearance\n",
      "— any thought or act of violence. I would like to quote\n",
      "the late leader of the Islamic revolution, Imam\n",
      "Khomeini, who said that “as followers of Islam, we\n",
      "always oppose war and desire peace and tranquillity\n",
      "among all States.”\n",
      "Let us accept that no country in the world is\n",
      "immune to terrorism. We should therefore seek\n",
      "solutions at the highest possible level.\n",
      "\n",
      "\n",
      "\n",
      "Maldives 2012\n",
      "The Maldives strongly condemns the recent anti-Islamic\n",
      "video demeaning our Prophet Muhammad — peace be\n",
      "upon him. Freedom of expression should not be used as\n",
      "an excuse to insult religions, incite hatred or provoke\n",
      "communal violence. While the video has provoked\n",
      "demonstrations around the world, the Maldives does\n",
      "not believe that violence is the way to respond to such\n",
      "low-level blasphemous acts.\n",
      "\n",
      "\n",
      "\n",
      "Maldives 2006\n",
      "Terrorism is an assault on the values of freedom and \n",
      "human solidarity. However, our efforts to combat the \n",
      "menace should avoid undermining the very values that \n",
      "we seek to protect. There is a resurgence of the \n",
      "vilification of Islam and Muslims. As the Maldives has \n",
      "been a 100 per cent Muslim nation for more than 850 \n",
      "years, we are dismayed by this trend. Islam has \n",
      "provided the basis for peace and social harmony in the \n",
      "Maldives. Islam preaches moderation, not extremism.\n",
      "\n",
      "\n",
      "\n",
      "Malaysia 2013\n",
      "There are two things we can do. First of all, I \n",
      "believe that peace-loving Muslims — the overwhelming \n",
      "majority of Muslims — should unite against the \n",
      "extremists who use our religion as an excuse to commit \n",
      "violence. And one of the most powerful tools we have \n",
      "to do so is al-wasatiyyah — the practice of moderation.\n",
      "\n",
      "\n",
      "\n",
      "Lebanon 1978\n",
      "204.\tRevolution we accept, but only in spirit, for we reject the terrorism which it inevitably breeds, and the hatred we fear remains with us as an offshoot of all the wars and all the revolutions that have saturated us in bloodshed and destruction.\n",
      "\n",
      "\n",
      "\n"
     ]
    }
   ],
   "source": [
    "print_paragraph(target)\n",
    "print('Nearest Neighbors:\\n')\n",
    "for i in I[0]:\n",
    "    if i == target:\n",
    "        continue\n",
    "    print_paragraph(i)"
   ]
  }
 ],
 "metadata": {
  "kernelspec": {
   "display_name": "un-general-debates",
   "language": "python",
   "name": "un-general-debates"
  },
  "language_info": {
   "codemirror_mode": {
    "name": "ipython",
    "version": 3
   },
   "file_extension": ".py",
   "mimetype": "text/x-python",
   "name": "python",
   "nbconvert_exporter": "python",
   "pygments_lexer": "ipython3",
   "version": "3.6.7"
  }
 },
 "nbformat": 4,
 "nbformat_minor": 2
}
